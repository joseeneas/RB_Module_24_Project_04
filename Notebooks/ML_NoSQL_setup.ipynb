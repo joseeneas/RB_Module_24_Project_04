{
 "cells": [
  {
   "attachments": {},
   "cell_type": "markdown",
   "id": "9a57c4c6",
   "metadata": {},
   "source": [
    "ML model for Formula One."
   ]
  },
  {
   "attachments": {},
   "cell_type": "markdown",
   "id": "064ef857",
   "metadata": {},
   "source": [
    "## Part 1: Database and Jupyter Notebook Set Up"
   ]
  },
  {
   "attachments": {},
   "cell_type": "markdown",
   "id": "664e3c1f",
   "metadata": {},
   "source": [
    "#### Part 1 - Step 1 \n",
    "Import the data provided in the `last_five_years_results_df.json` file from your Mongo Compass into a new database called `formula_one` and a collection called `results`."
   ]
  },
  {
   "attachments": {},
   "cell_type": "markdown",
   "id": "6070e34f",
   "metadata": {},
   "source": [
    "#### Part 1 - Step 2\n",
    "Import required dependencies."
   ]
  },
  {
   "cell_type": "code",
   "execution_count": 46,
   "id": "3ecdd008",
   "metadata": {},
   "outputs": [],
   "source": [
    "from pymongo import MongoClient\n",
    "from pprint  import pprint\n",
    "import pandas as pd"
   ]
  },
  {
   "attachments": {},
   "cell_type": "markdown",
   "id": "0e4fbff1",
   "metadata": {},
   "source": [
    "#### Part 1 - Step 3\n",
    "Create an instance of the Mongo Client."
   ]
  },
  {
   "cell_type": "code",
   "execution_count": 13,
   "id": "59390c4a",
   "metadata": {},
   "outputs": [],
   "source": [
    "# Create an instance of MongoClient\n",
    "mongo = MongoClient(port=27017)"
   ]
  },
  {
   "attachments": {},
   "cell_type": "markdown",
   "id": "5a0387ce",
   "metadata": {},
   "source": [
    "#### Part 1 - Step 4\n",
    "- List the databases you have in MongoDB. Confirm that uk_food is listed.\n",
    "- List the collection(s) in the database to ensure that establishments is there.\n",
    "- Find and display one document in the establishments collection using find_one and display with pprint.\n",
    "- Assign the establishments collection to a variable to prepare the collection for use."
   ]
  },
  {
   "cell_type": "code",
   "execution_count": 14,
   "id": "7f9ececa",
   "metadata": {},
   "outputs": [
    {
     "name": "stdout",
     "output_type": "stream",
     "text": [
      "['F1', 'admin', 'config', 'local', 'met', 'uk_food']\n"
     ]
    }
   ],
   "source": [
    "# confirm that our new database was created\n",
    "# The database called uk_food, must appear in the list.\n",
    "# Ohter databases may exist as leftover from other exercises/projects.\n",
    "print(mongo.list_database_names())"
   ]
  },
  {
   "cell_type": "code",
   "execution_count": 15,
   "id": "71e373c1",
   "metadata": {},
   "outputs": [],
   "source": [
    "# assign the uk_food database to a variable name\n",
    "db = mongo['F1']"
   ]
  },
  {
   "cell_type": "code",
   "execution_count": 16,
   "id": "ef1b89ed",
   "metadata": {},
   "outputs": [
    {
     "name": "stdout",
     "output_type": "stream",
     "text": [
      "['Drivers', 'Teams', 'Results']\n"
     ]
    }
   ],
   "source": [
    "# review the collections in our new database\n",
    "# The name of the collection must appear in the list.\n",
    "print(db.list_collection_names())"
   ]
  },
  {
   "cell_type": "code",
   "execution_count": 17,
   "id": "6a0d92df",
   "metadata": {},
   "outputs": [
    {
     "name": "stdout",
     "output_type": "stream",
     "text": [
      "{'': 0,\n",
      " 'Driver': 'Sebastian Vettel',\n",
      " 'Laps': 58,\n",
      " 'No': 5,\n",
      " 'Points': 25.0,\n",
      " 'Position': 1,\n",
      " 'Starting Grid': 3.0,\n",
      " 'Team': 'Ferrari',\n",
      " 'Time/Retired': '29:33.3',\n",
      " 'Track': 'Australia',\n",
      " 'Year': 2018,\n",
      " '_id': ObjectId('6515c3e0a6ad92a32b7c11d8')}\n"
     ]
    }
   ],
   "source": [
    "# review a document in the establishments collection\n",
    "pprint(db.Results.find_one())"
   ]
  },
  {
   "cell_type": "code",
   "execution_count": 9,
   "id": "11c9f11b",
   "metadata": {},
   "outputs": [],
   "source": [
    "# assign the collection to a variable\n",
    "Results = db['Results']"
   ]
  },
  {
   "attachments": {},
   "cell_type": "markdown",
   "id": "d5671434",
   "metadata": {},
   "source": [
    "## Part 2: Update the Database\n",
    "\n",
    "The magazine editors have some requested modifications for the database\n",
    "before you can perform any queries or analysis for them. Make the following\n",
    "changes to the establishments collection:"
   ]
  },
  {
   "attachments": {},
   "cell_type": "markdown",
   "id": "314bd884",
   "metadata": {},
   "source": [
    "#### Part 2 - Step 1\n",
    "- An exciting new halal restaurant just opened in Greenwich, but hasn't been rated yet. The magazine has asked you \n",
    "  to  include it in your analysis. Add the following restaurant \"Penang Flavours\" to the database."
   ]
  },
  {
   "cell_type": "code",
   "execution_count": 51,
   "id": "63bb10f9",
   "metadata": {},
   "outputs": [
    {
     "name": "stdout",
     "output_type": "stream",
     "text": [
      "                        _id  Position            Driver  Starting Grid  Laps  \\\n",
      "0  6515c3e0a6ad92a32b7c11d8         1  Sebastian Vettel            3.0    58   \n",
      "1  6515c3e0a6ad92a32b7c11d9         2    Lewis Hamilton            1.0    58   \n",
      "2  6515c3e0a6ad92a32b7c11da         3  Kimi RaikkAAPnen            2.0    58   \n",
      "3  6515c3e0a6ad92a32b7c11db         4  Daniel Ricciardo            8.0    58   \n",
      "4  6515c3e0a6ad92a32b7c11dc         5   Fernando Alonso           10.0    58   \n",
      "\n",
      "  Time/Retired  Points  \n",
      "0      29:33.3    25.0  \n",
      "1        5.036    18.0  \n",
      "2        6.309    15.0  \n",
      "3        7.069    12.0  \n",
      "4       27.886    10.0  \n"
     ]
    }
   ],
   "source": [
    "# Check that the new restaurant was inserted\n",
    "# Filter results by name\n",
    "query  = ({\"Position\" : {\"$gt\": 0}})\n",
    "fields = {'Position'  : 1,\n",
    "          'Driver': 1,\n",
    "          'Starting Grid': 1,\n",
    "          'Laps': 1,\n",
    "          'Time/Retired': 1,\n",
    "          'Points': 1}\n",
    "results = Results.find(query,fields)\n",
    "#for result in results:\n",
    "#    pprint(result.get('Driver'))\n",
    "results_df = pd.DataFrame(list(results))\n",
    "print(results_df.head())\n"
   ]
  },
  {
   "attachments": {},
   "cell_type": "markdown",
   "id": "0ef4395a",
   "metadata": {},
   "source": [
    "#### Part 2 - Step 2\n",
    "Find the BusinessTypeID for \"Restaurant/Cafe/Canteen\" and return only the `BusinessTypeID` and `BusinessType` fields."
   ]
  },
  {
   "cell_type": "code",
   "execution_count": 46,
   "id": "93c63829",
   "metadata": {},
   "outputs": [
    {
     "name": "stdout",
     "output_type": "stream",
     "text": [
      "1\n"
     ]
    }
   ],
   "source": [
    "# Find the BusinessTypeID for \"Restaurant/Cafe/Canteen\" and return only the BusinessTypeID and BusinessType fields\n",
    "query = {'BusinessType':'Restaurant/Cafe/Canteen'}\n",
    "fields = { 'BusinessTypeID' : 1, 'BusinessType': 1 }\n",
    "result = establishments.find(query, fields)\n",
    "x=result[0]\n",
    "bussinesstypeid = x['BusinessTypeID']\n",
    "print(bussinesstypeid)"
   ]
  },
  {
   "attachments": {},
   "cell_type": "markdown",
   "id": "4e570caf",
   "metadata": {},
   "source": [
    "#### Part 2 - Step 3\n",
    "Update the new restaurant with the `BusinessTypeID` you found."
   ]
  },
  {
   "cell_type": "code",
   "execution_count": 47,
   "id": "7256d185",
   "metadata": {},
   "outputs": [
    {
     "data": {
      "text/plain": [
       "<pymongo.results.UpdateResult at 0x10c050dc0>"
      ]
     },
     "execution_count": 47,
     "metadata": {},
     "output_type": "execute_result"
    }
   ],
   "source": [
    "# Update the new restaurant with the correct BusinessTypeID\n",
    "\n",
    "establishments.update_one( {'BusinessName': 'Penang Flavours'},  { '$set': { 'BusinessTypeID': f'{bussinesstypeid}'} })"
   ]
  },
  {
   "cell_type": "code",
   "execution_count": 48,
   "id": "a6ad16f7",
   "metadata": {},
   "outputs": [
    {
     "name": "stdout",
     "output_type": "stream",
     "text": [
      "{'BusinessName': 'Penang Flavours',\n",
      " 'BusinessType': 'Restaurant/Cafe/Canteen',\n",
      " 'BusinessTypeID': '1',\n",
      " '_id': ObjectId('64a86993555a3ea5d685feba')}\n"
     ]
    }
   ],
   "source": [
    "# Confirm that the new restaurant was updated\n",
    "# Check that the new restaurant was inserted\n",
    "# Filter results by name\n",
    "# Find how many documents have LocalAuthorityName as \"Dover\"\n",
    "query = {'BusinessName': 'Penang Flavours'}\n",
    "query = ({\"age\":{\"$gt\":\"26\"}})  \n",
    "fields = { 'BusinessName':1, 'BusinessTypeID' : 1, 'BusinessType': 1 }\n",
    "results = establishments.find(query,fields)\n",
    "for result in results:\n",
    "    pprint(result)"
   ]
  },
  {
   "attachments": {},
   "cell_type": "markdown",
   "id": "67281254",
   "metadata": {},
   "source": [
    "#### Part 2 - Step 4\n",
    "\n",
    "The magazine is not interested in any establishments in Dover, so check how many documents contain the Dover Local Authority. Then, remove any establishments within the Dover Local Authority from the database, and check the number of documents to ensure they were deleted."
   ]
  },
  {
   "cell_type": "code",
   "execution_count": 49,
   "id": "768474a6",
   "metadata": {},
   "outputs": [
    {
     "name": "stdout",
     "output_type": "stream",
     "text": [
      "All bussinesses           : 39780\n",
      "Dover Bussinesses         : 994\n",
      "After Delete Dover        : 38786\n",
      "After Delete Confirmation : 38786\n"
     ]
    }
   ],
   "source": [
    "# Find how many documents have LocalAuthorityName as \"Dover\"\n",
    "# Delete all documents where LocalAuthorityName is \"Dover\"\n",
    "# Check if any remaining documents include Dover\n",
    "query         = {'LocalAuthorityName': 'Dover'}\n",
    "fields        = { 'LocalAuthorityName' : 1, 'BusinessType': 1 }\n",
    "AllLocalQty   = establishments.count_documents({})\n",
    "DoverLocalQty = establishments.count_documents(query)\n",
    "AfterDelete   = AllLocalQty - DoverLocalQty\n",
    "establishments.delete_many( {'LocalAuthorityName': 'Dover'} )\n",
    "Confirmation = establishments.count_documents({})\n",
    "print(F'All bussinesses           : {AllLocalQty}')\n",
    "print(F'Dover Bussinesses         : {DoverLocalQty}')\n",
    "print(F'After Delete Dover        : {AfterDelete}')\n",
    "AllLocalQty   = establishments.count_documents({})\n",
    "print(F'After Delete Confirmation : {AllLocalQty}')"
   ]
  },
  {
   "cell_type": "code",
   "execution_count": 50,
   "id": "a11d5f1b",
   "metadata": {},
   "outputs": [],
   "source": [
    "# Check if any remaining documents include Dover\n",
    "query         = {'LocalAuthorityName': 'Dover'}\n",
    "AllLocalQty   = establishments.find(query)\n",
    "# None should appear."
   ]
  },
  {
   "cell_type": "code",
   "execution_count": 51,
   "id": "8c356f7b",
   "metadata": {},
   "outputs": [
    {
     "name": "stdout",
     "output_type": "stream",
     "text": [
      "{'AddressLine1': 'East Cliff Pavilion',\n",
      " 'AddressLine2': 'Wear Bay Road',\n",
      " 'AddressLine3': 'Folkestone',\n",
      " 'AddressLine4': 'Kent',\n",
      " 'BusinessName': 'The Pavilion',\n",
      " 'BusinessType': 'Restaurant/Cafe/Canteen',\n",
      " 'BusinessTypeID': 1,\n",
      " 'ChangesByServerID': 0,\n",
      " 'Distance': 4591.765489457773,\n",
      " 'FHRSID': 1043695,\n",
      " 'LocalAuthorityBusinessID': 'PI/000073616',\n",
      " 'LocalAuthorityCode': '188',\n",
      " 'LocalAuthorityEmailAddress': 'foodteam@folkestone-hythe.gov.uk',\n",
      " 'LocalAuthorityName': 'Folkestone and Hythe',\n",
      " 'LocalAuthorityWebSite': 'http://www.folkestone-hythe.gov.uk',\n",
      " 'NewRatingPending': False,\n",
      " 'Phone': '',\n",
      " 'PostCode': 'CT19 6BL',\n",
      " 'RatingDate': '2018-04-04T00:00:00',\n",
      " 'RatingKey': 'fhrs_5_en-gb',\n",
      " 'RatingValue': '5',\n",
      " 'RightToReply': '',\n",
      " 'SchemeType': 'FHRS',\n",
      " '_id': ObjectId('64a8697cdd2ceeaae657cdd5'),\n",
      " 'geocode': {'latitude': '51.083812', 'longitude': '1.195625'},\n",
      " 'links': [{'href': 'https://api.ratings.food.gov.uk/establishments/1043695',\n",
      "            'rel': 'self'}],\n",
      " 'meta': {'dataSource': None,\n",
      "          'extractDate': '0001-01-01T00:00:00',\n",
      "          'itemCount': 0,\n",
      "          'pageNumber': 0,\n",
      "          'pageSize': 0,\n",
      "          'returncode': None,\n",
      "          'totalCount': 0,\n",
      "          'totalPages': 0},\n",
      " 'scores': {'ConfidenceInManagement': 5, 'Hygiene': 5, 'Structural': 5}}\n"
     ]
    }
   ],
   "source": [
    "# Check that other documents remain with 'find_one'\n",
    "est = establishments.find_one()\n",
    "pprint(est)"
   ]
  },
  {
   "attachments": {},
   "cell_type": "markdown",
   "id": "e9f1662d",
   "metadata": {},
   "source": [
    "#### Part 2 - Step 5\n",
    "Some of the number values are stored as strings, when they should be stored as numbers.\n",
    "Use `update_many` to convert `latitude` and `longitude` to decimal numbers."
   ]
  },
  {
   "cell_type": "code",
   "execution_count": 52,
   "id": "fd4112ce",
   "metadata": {},
   "outputs": [
    {
     "name": "stdout",
     "output_type": "stream",
     "text": [
      "{'AddressLine1': 'East Cliff Pavilion',\n",
      " 'AddressLine2': 'Wear Bay Road',\n",
      " 'AddressLine3': 'Folkestone',\n",
      " 'AddressLine4': 'Kent',\n",
      " 'BusinessName': 'The Pavilion',\n",
      " 'BusinessType': 'Restaurant/Cafe/Canteen',\n",
      " 'BusinessTypeID': 1,\n",
      " 'ChangesByServerID': 0,\n",
      " 'Distance': 4591.765489457773,\n",
      " 'FHRSID': 1043695,\n",
      " 'LocalAuthorityBusinessID': 'PI/000073616',\n",
      " 'LocalAuthorityCode': '188',\n",
      " 'LocalAuthorityEmailAddress': 'foodteam@folkestone-hythe.gov.uk',\n",
      " 'LocalAuthorityName': 'Folkestone and Hythe',\n",
      " 'LocalAuthorityWebSite': 'http://www.folkestone-hythe.gov.uk',\n",
      " 'NewRatingPending': False,\n",
      " 'Phone': '',\n",
      " 'PostCode': 'CT19 6BL',\n",
      " 'RatingDate': '2018-04-04T00:00:00',\n",
      " 'RatingKey': 'fhrs_5_en-gb',\n",
      " 'RatingValue': '5',\n",
      " 'RightToReply': '',\n",
      " 'SchemeType': 'FHRS',\n",
      " '_id': ObjectId('64a8697cdd2ceeaae657cdd5'),\n",
      " 'geocode': {'latitude': Decimal128('51.083812'),\n",
      "             'longitude': Decimal128('1.195625')},\n",
      " 'links': [{'href': 'https://api.ratings.food.gov.uk/establishments/1043695',\n",
      "            'rel': 'self'}],\n",
      " 'meta': {'dataSource': None,\n",
      "          'extractDate': '0001-01-01T00:00:00',\n",
      "          'itemCount': 0,\n",
      "          'pageNumber': 0,\n",
      "          'pageSize': 0,\n",
      "          'returncode': None,\n",
      "          'totalCount': 0,\n",
      "          'totalPages': 0},\n",
      " 'scores': {'ConfidenceInManagement': 5, 'Hygiene': 5, 'Structural': 5}}\n"
     ]
    }
   ],
   "source": [
    "# Change the data type from String to Decimal for longitude and latitude\n",
    "# Using Double would ensure a better precision, but the requirement is to use decimal to ensure a \n",
    "# better precision for longitude and latitude\n",
    "establishments.update_many({}, \n",
    "                           [ {'$set': { \"geocode.latitude\"  : { '$toDecimal': \"$geocode.latitude\" },\n",
    "                                        \"geocode.longitude\" : { '$toDecimal': \"$geocode.longitude\" }\n",
    "                                      }\n",
    "                             } ]\n",
    "                          )\n",
    "\n",
    "est = establishments.find_one()\n",
    "pprint(est)"
   ]
  },
  {
   "attachments": {},
   "cell_type": "markdown",
   "id": "142e319c",
   "metadata": {},
   "source": [
    "Use `update_many` to convert `RatingValue` to integer numbers."
   ]
  },
  {
   "cell_type": "code",
   "execution_count": 53,
   "id": "04430a5b",
   "metadata": {},
   "outputs": [
    {
     "name": "stdout",
     "output_type": "stream",
     "text": [
      "{'AddressLine1': 'East Cliff Pavilion',\n",
      " 'AddressLine2': 'Wear Bay Road',\n",
      " 'AddressLine3': 'Folkestone',\n",
      " 'AddressLine4': 'Kent',\n",
      " 'BusinessName': 'The Pavilion',\n",
      " 'BusinessType': 'Restaurant/Cafe/Canteen',\n",
      " 'BusinessTypeID': 1,\n",
      " 'ChangesByServerID': 0,\n",
      " 'Distance': 4591.765489457773,\n",
      " 'FHRSID': 1043695,\n",
      " 'LocalAuthorityBusinessID': 'PI/000073616',\n",
      " 'LocalAuthorityCode': '188',\n",
      " 'LocalAuthorityEmailAddress': 'foodteam@folkestone-hythe.gov.uk',\n",
      " 'LocalAuthorityName': 'Folkestone and Hythe',\n",
      " 'LocalAuthorityWebSite': 'http://www.folkestone-hythe.gov.uk',\n",
      " 'NewRatingPending': False,\n",
      " 'Phone': '',\n",
      " 'PostCode': 'CT19 6BL',\n",
      " 'RatingDate': '2018-04-04T00:00:00',\n",
      " 'RatingKey': 'fhrs_5_en-gb',\n",
      " 'RatingValue': '5',\n",
      " 'RightToReply': '',\n",
      " 'SchemeType': 'FHRS',\n",
      " '_id': ObjectId('64a8697cdd2ceeaae657cdd5'),\n",
      " 'geocode': {'latitude': Decimal128('51.083812'),\n",
      "             'longitude': Decimal128('1.195625')},\n",
      " 'links': [{'href': 'https://api.ratings.food.gov.uk/establishments/1043695',\n",
      "            'rel': 'self'}],\n",
      " 'meta': {'dataSource': None,\n",
      "          'extractDate': '0001-01-01T00:00:00',\n",
      "          'itemCount': 0,\n",
      "          'pageNumber': 0,\n",
      "          'pageSize': 0,\n",
      "          'returncode': None,\n",
      "          'totalCount': 0,\n",
      "          'totalPages': 0},\n",
      " 'scores': {'ConfidenceInManagement': 5, 'Hygiene': 5, 'Structural': 5}}\n"
     ]
    }
   ],
   "source": [
    "# Set non 1-5 Rating Values to Null\n",
    "non_ratings = [\"AwaitingInspection\", \"Awaiting Inspection\", \"AwaitingPublication\", \"Pass\", \"Exempt\"]\n",
    "establishments.update_many({\"RatingValue\": {\"$in\": non_ratings}}, [ {'$set':{ \"RatingValue\" : None}} ])\n",
    "est = establishments.find_one()\n",
    "pprint(est)"
   ]
  },
  {
   "cell_type": "code",
   "execution_count": 54,
   "id": "92524ccc",
   "metadata": {},
   "outputs": [
    {
     "name": "stdout",
     "output_type": "stream",
     "text": [
      "{'AddressLine1': 'East Cliff Pavilion',\n",
      " 'AddressLine2': 'Wear Bay Road',\n",
      " 'AddressLine3': 'Folkestone',\n",
      " 'AddressLine4': 'Kent',\n",
      " 'BusinessName': 'The Pavilion',\n",
      " 'BusinessType': 'Restaurant/Cafe/Canteen',\n",
      " 'BusinessTypeID': 1,\n",
      " 'ChangesByServerID': 0,\n",
      " 'Distance': 4591.765489457773,\n",
      " 'FHRSID': 1043695,\n",
      " 'LocalAuthorityBusinessID': 'PI/000073616',\n",
      " 'LocalAuthorityCode': '188',\n",
      " 'LocalAuthorityEmailAddress': 'foodteam@folkestone-hythe.gov.uk',\n",
      " 'LocalAuthorityName': 'Folkestone and Hythe',\n",
      " 'LocalAuthorityWebSite': 'http://www.folkestone-hythe.gov.uk',\n",
      " 'NewRatingPending': False,\n",
      " 'Phone': '',\n",
      " 'PostCode': 'CT19 6BL',\n",
      " 'RatingDate': '2018-04-04T00:00:00',\n",
      " 'RatingKey': 'fhrs_5_en-gb',\n",
      " 'RatingValue': 5,\n",
      " 'RightToReply': '',\n",
      " 'SchemeType': 'FHRS',\n",
      " '_id': ObjectId('64a8697cdd2ceeaae657cdd5'),\n",
      " 'geocode': {'latitude': Decimal128('51.083812'),\n",
      "             'longitude': Decimal128('1.195625')},\n",
      " 'links': [{'href': 'https://api.ratings.food.gov.uk/establishments/1043695',\n",
      "            'rel': 'self'}],\n",
      " 'meta': {'dataSource': None,\n",
      "          'extractDate': '0001-01-01T00:00:00',\n",
      "          'itemCount': 0,\n",
      "          'pageNumber': 0,\n",
      "          'pageSize': 0,\n",
      "          'returncode': None,\n",
      "          'totalCount': 0,\n",
      "          'totalPages': 0},\n",
      " 'scores': {'ConfidenceInManagement': 5, 'Hygiene': 5, 'Structural': 5}}\n"
     ]
    }
   ],
   "source": [
    "# Change the data type from String to Integer for RatingValue\n",
    "establishments.update_many({}, \n",
    "                           [ {'$set': { \"RatingValue\"  : { '$toInt': \"$RatingValue\" }\n",
    "                                      }\n",
    "                             } ]\n",
    "                          )\n",
    "est = establishments.find_one()\n",
    "pprint(est)"
   ]
  },
  {
   "cell_type": "code",
   "execution_count": 55,
   "id": "0deacaf9",
   "metadata": {},
   "outputs": [
    {
     "name": "stdout",
     "output_type": "stream",
     "text": [
      "{'RatingValue': 5,\n",
      " '_id': ObjectId('64a8697cdd2ceeaae657cdd5'),\n",
      " 'geocode': {'latitude': Decimal128('51.083812'),\n",
      "             'longitude': Decimal128('1.195625')}}\n"
     ]
    }
   ],
   "source": [
    "# Check that the coordinates and rating value are now numbers\n",
    "est = establishments.find_one({},{ 'geocode.latitude': 1, 'geocode.longitude': 1, 'RatingValue' : 1 })\n",
    "pprint(est)"
   ]
  }
 ],
 "metadata": {
  "kernelspec": {
   "display_name": "Python 3 (ipykernel)",
   "language": "python",
   "name": "python3"
  },
  "language_info": {
   "codemirror_mode": {
    "name": "ipython",
    "version": 3
   },
   "file_extension": ".py",
   "mimetype": "text/x-python",
   "name": "python",
   "nbconvert_exporter": "python",
   "pygments_lexer": "ipython3",
   "version": "3.11.5"
  }
 },
 "nbformat": 4,
 "nbformat_minor": 5
}
